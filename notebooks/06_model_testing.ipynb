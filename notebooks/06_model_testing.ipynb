{
 "cells": [
  {
   "cell_type": "code",
   "execution_count": 13,
   "metadata": {},
   "outputs": [],
   "source": [
    "import pandas as pd\n",
    "import numpy as np\n",
    "import seaborn as sns\n",
    "import matplotlib.pyplot as plt\n",
    "from sklearn.linear_model import LinearRegression, LassoCV, RidgeCV\n",
    "from sklearn.preprocessing import PolynomialFeatures, StandardScaler\n",
    "from sklearn.model_selection import train_test_split, cross_val_score, cross_val_predict\n",
    "from sklearn.metrics import r2_score, mean_squared_error\n",
    "from scipy import stats\n",
    "import statsmodels.api as sm\n",
    "%matplotlib inline"
   ]
  },
  {
   "cell_type": "code",
   "execution_count": 14,
   "metadata": {},
   "outputs": [],
   "source": [
    "df_train = pd.read_csv('datasets/train_polished.csv')\n",
    "df_test = pd.read_csv('datasets/test_polished.csv')"
   ]
  },
  {
   "cell_type": "code",
   "execution_count": 15,
   "metadata": {},
   "outputs": [
    {
     "data": {
      "text/plain": [
       "0.8668134826317817"
      ]
     },
     "execution_count": 15,
     "metadata": {},
     "output_type": "execute_result"
    }
   ],
   "source": [
    "X_train = df_train[['Lot Frontage', 'Lot Area', 'Neighborhood', 'Overall Qual',\n",
    "       'Year Built', 'Year Remod/Add', \n",
    "       'Exter Qual', 'Bsmt Qual',\n",
    "       'Heating QC', 'Central Air', 'Gr Liv Area', 'Kitchen Qual',\n",
    "       'TotRms AbvGrd', 'Fireplaces', \n",
    "         'Garage Cars', 'Garage Qual',\n",
    "       'Paved Drive', 'Mo Sold', 'Yr Sold', 'total bath',\n",
    "       'total sf', 'age', 'Neighborhood Interaction']]\n",
    "y_train = df_train['SalePrice'] ## Sale price\n",
    "####instatiatie model\n",
    "Y_train = np.log(y_train)\n",
    "model = LinearRegression()\n",
    "###fit model to train data\n",
    "model.fit(X_train, Y_train)\n",
    "# check the score on the training data\n",
    "model.score(X_train, Y_train)"
   ]
  },
  {
   "cell_type": "code",
   "execution_count": 16,
   "metadata": {},
   "outputs": [],
   "source": [
    "X_test = df_test[['Lot Frontage', 'Lot Area', 'Neighborhood', 'Overall Qual',\n",
    "       'Year Built', 'Year Remod/Add', \n",
    "       'Exter Qual', 'Bsmt Qual',\n",
    "       'Heating QC', 'Central Air', 'Gr Liv Area', 'Kitchen Qual',\n",
    "       'TotRms AbvGrd', 'Fireplaces', \n",
    "         'Garage Cars', 'Garage Qual',\n",
    "       'Paved Drive', 'Mo Sold', 'Yr Sold', 'total bath',\n",
    "       'total sf', 'age','Neighborhood Interaction']]  \n",
    "y_hat = np.exp(model.predict(X_test))"
   ]
  },
  {
   "cell_type": "code",
   "execution_count": 17,
   "metadata": {},
   "outputs": [
    {
     "data": {
      "text/html": [
       "<div>\n",
       "<style scoped>\n",
       "    .dataframe tbody tr th:only-of-type {\n",
       "        vertical-align: middle;\n",
       "    }\n",
       "\n",
       "    .dataframe tbody tr th {\n",
       "        vertical-align: top;\n",
       "    }\n",
       "\n",
       "    .dataframe thead th {\n",
       "        text-align: right;\n",
       "    }\n",
       "</style>\n",
       "<table border=\"1\" class=\"dataframe\">\n",
       "  <thead>\n",
       "    <tr style=\"text-align: right;\">\n",
       "      <th></th>\n",
       "      <th>Id</th>\n",
       "      <th>SalePrice</th>\n",
       "    </tr>\n",
       "  </thead>\n",
       "  <tbody>\n",
       "    <tr>\n",
       "      <th>0</th>\n",
       "      <td>2658</td>\n",
       "      <td>118164.438581</td>\n",
       "    </tr>\n",
       "    <tr>\n",
       "      <th>1</th>\n",
       "      <td>2718</td>\n",
       "      <td>160234.608605</td>\n",
       "    </tr>\n",
       "    <tr>\n",
       "      <th>2</th>\n",
       "      <td>2414</td>\n",
       "      <td>217947.219392</td>\n",
       "    </tr>\n",
       "    <tr>\n",
       "      <th>3</th>\n",
       "      <td>1989</td>\n",
       "      <td>106309.161059</td>\n",
       "    </tr>\n",
       "    <tr>\n",
       "      <th>4</th>\n",
       "      <td>625</td>\n",
       "      <td>171823.746191</td>\n",
       "    </tr>\n",
       "  </tbody>\n",
       "</table>\n",
       "</div>"
      ],
      "text/plain": [
       "     Id      SalePrice\n",
       "0  2658  118164.438581\n",
       "1  2718  160234.608605\n",
       "2  2414  217947.219392\n",
       "3  1989  106309.161059\n",
       "4   625  171823.746191"
      ]
     },
     "execution_count": 17,
     "metadata": {},
     "output_type": "execute_result"
    }
   ],
   "source": [
    "newest_model = pd.DataFrame({'Id': df_test['Id'],\n",
    "                                     'SalePrice': y_hat,})\n",
    "newest_model.head()"
   ]
  },
  {
   "cell_type": "code",
   "execution_count": 18,
   "metadata": {},
   "outputs": [],
   "source": [
    "newest_model.to_csv('newest_model.csv', index=False)"
   ]
  },
  {
   "cell_type": "code",
   "execution_count": 19,
   "metadata": {},
   "outputs": [],
   "source": [
    "df_train['Quality Interaction'] = df_train['Neighborhood Interaction'] * df_train['Overall Qual']"
   ]
  },
  {
   "cell_type": "code",
   "execution_count": 20,
   "metadata": {},
   "outputs": [],
   "source": [
    "df_test['Quality Interaction'] = df_test['Neighborhood Interaction'] * df_test['Overall Qual']"
   ]
  },
  {
   "cell_type": "code",
   "execution_count": 21,
   "metadata": {},
   "outputs": [
    {
     "data": {
      "text/plain": [
       "0.8675240010658936"
      ]
     },
     "execution_count": 21,
     "metadata": {},
     "output_type": "execute_result"
    }
   ],
   "source": [
    "X_train = df_train[['Lot Frontage', 'Lot Area', 'Neighborhood', 'Overall Qual',\n",
    "       'Year Built', 'Year Remod/Add', \n",
    "       'Exter Qual', 'Bsmt Qual',\n",
    "       'Heating QC', 'Central Air', 'Gr Liv Area', 'Kitchen Qual',\n",
    "       'TotRms AbvGrd', 'Fireplaces', \n",
    "         'Garage Cars', 'Garage Qual',\n",
    "       'Paved Drive', 'Mo Sold', 'Yr Sold', 'total bath',\n",
    "       'total sf', 'age', 'Neighborhood Interaction', 'Quality Interaction']]\n",
    "y_train = df_train['SalePrice'] ## Sale price\n",
    "####instatiatie model\n",
    "Y_train = np.log(y_train)\n",
    "model = LinearRegression()\n",
    "###fit model to train data\n",
    "model.fit(X_train, Y_train)\n",
    "# check the score on the training data\n",
    "model.score(X_train, Y_train)"
   ]
  },
  {
   "cell_type": "code",
   "execution_count": 22,
   "metadata": {},
   "outputs": [],
   "source": [
    "X_test = df_test[['Lot Frontage', 'Lot Area', 'Neighborhood', 'Overall Qual',\n",
    "       'Year Built', 'Year Remod/Add', \n",
    "       'Exter Qual', 'Bsmt Qual',\n",
    "       'Heating QC', 'Central Air', 'Gr Liv Area', 'Kitchen Qual',\n",
    "       'TotRms AbvGrd', 'Fireplaces', \n",
    "         'Garage Cars', 'Garage Qual',\n",
    "       'Paved Drive', 'Mo Sold', 'Yr Sold', 'total bath',\n",
    "       'total sf', 'age','Neighborhood Interaction', 'Quality Interaction']]  \n",
    "y_hat = np.exp(model.predict(X_test))"
   ]
  },
  {
   "cell_type": "code",
   "execution_count": 23,
   "metadata": {},
   "outputs": [
    {
     "data": {
      "text/html": [
       "<div>\n",
       "<style scoped>\n",
       "    .dataframe tbody tr th:only-of-type {\n",
       "        vertical-align: middle;\n",
       "    }\n",
       "\n",
       "    .dataframe tbody tr th {\n",
       "        vertical-align: top;\n",
       "    }\n",
       "\n",
       "    .dataframe thead th {\n",
       "        text-align: right;\n",
       "    }\n",
       "</style>\n",
       "<table border=\"1\" class=\"dataframe\">\n",
       "  <thead>\n",
       "    <tr style=\"text-align: right;\">\n",
       "      <th></th>\n",
       "      <th>Id</th>\n",
       "      <th>SalePrice</th>\n",
       "    </tr>\n",
       "  </thead>\n",
       "  <tbody>\n",
       "    <tr>\n",
       "      <th>0</th>\n",
       "      <td>2658</td>\n",
       "      <td>118128.765453</td>\n",
       "    </tr>\n",
       "    <tr>\n",
       "      <th>1</th>\n",
       "      <td>2718</td>\n",
       "      <td>157625.584989</td>\n",
       "    </tr>\n",
       "    <tr>\n",
       "      <th>2</th>\n",
       "      <td>2414</td>\n",
       "      <td>218017.048923</td>\n",
       "    </tr>\n",
       "    <tr>\n",
       "      <th>3</th>\n",
       "      <td>1989</td>\n",
       "      <td>106965.058363</td>\n",
       "    </tr>\n",
       "    <tr>\n",
       "      <th>4</th>\n",
       "      <td>625</td>\n",
       "      <td>171196.446532</td>\n",
       "    </tr>\n",
       "  </tbody>\n",
       "</table>\n",
       "</div>"
      ],
      "text/plain": [
       "     Id      SalePrice\n",
       "0  2658  118128.765453\n",
       "1  2718  157625.584989\n",
       "2  2414  218017.048923\n",
       "3  1989  106965.058363\n",
       "4   625  171196.446532"
      ]
     },
     "execution_count": 23,
     "metadata": {},
     "output_type": "execute_result"
    }
   ],
   "source": [
    "extreme_model = pd.DataFrame({'Id': df_test['Id'],\n",
    "                                     'SalePrice': y_hat,})\n",
    "extreme_model.head()"
   ]
  },
  {
   "cell_type": "code",
   "execution_count": 24,
   "metadata": {},
   "outputs": [],
   "source": [
    "extreme_model.to_csv('extreme_model.csv', index=False)"
   ]
  },
  {
   "cell_type": "code",
   "execution_count": 25,
   "metadata": {},
   "outputs": [],
   "source": [
    "df_train['Total Interaction'] = df_train['total sf'] * df_train['Overall Qual']"
   ]
  },
  {
   "cell_type": "code",
   "execution_count": 26,
   "metadata": {},
   "outputs": [],
   "source": [
    "df_test['Total Interaction'] = df_test['total sf'] * df_test['Overall Qual']"
   ]
  },
  {
   "cell_type": "code",
   "execution_count": 27,
   "metadata": {},
   "outputs": [
    {
     "data": {
      "text/plain": [
       "Index(['Id', 'Lot Frontage', 'Lot Area', 'Neighborhood', 'Overall Qual',\n",
       "       'Year Built', 'Year Remod/Add', 'Exterior 1st', 'Exterior 2nd',\n",
       "       'Exter Qual', 'Foundation', 'Bsmt Qual', 'Bsmt Cond', 'Total Bsmt SF',\n",
       "       'Heating QC', 'Central Air', 'Gr Liv Area', 'Kitchen Qual',\n",
       "       'TotRms AbvGrd', 'Functional', 'Fireplaces', 'Garage Finish',\n",
       "       'Garage Cars', 'Garage Area', 'Garage Qual', 'Paved Drive', 'Mo Sold',\n",
       "       'Yr Sold', 'SalePrice', 'total bath', 'total sf', 'age',\n",
       "       'Neighborhood Interaction', 'overall SF Interaction',\n",
       "       'Quality Interaction', 'Total Interaction'],\n",
       "      dtype='object')"
      ]
     },
     "execution_count": 27,
     "metadata": {},
     "output_type": "execute_result"
    }
   ],
   "source": [
    "df_train.columns"
   ]
  },
  {
   "cell_type": "code",
   "execution_count": 28,
   "metadata": {},
   "outputs": [
    {
     "data": {
      "text/plain": [
       "0.8802992604538432"
      ]
     },
     "execution_count": 28,
     "metadata": {},
     "output_type": "execute_result"
    }
   ],
   "source": [
    "X_train = df_train[['Lot Frontage', 'Lot Area', 'Neighborhood', 'Overall Qual',\n",
    "       'Year Built', 'Year Remod/Add', \n",
    "       'Exter Qual',  'Bsmt Qual', 'Bsmt Cond', 'Total Bsmt SF',\n",
    "       'Heating QC', 'Central Air', 'Gr Liv Area', 'Kitchen Qual',\n",
    "       'TotRms AbvGrd', 'Fireplaces', \n",
    "       'Garage Finish', 'Garage Cars', 'Garage Area', 'Garage Qual',\n",
    "       'Paved Drive', 'Mo Sold', 'Yr Sold', 'total bath',\n",
    "       'total sf', 'age', 'Neighborhood Interaction', 'Quality Interaction',\n",
    "       'Total Interaction']]\n",
    "y_train = df_train['SalePrice'] ## Sale price\n",
    "####instatiatie model\n",
    "Y_train = np.log(y_train)\n",
    "model = LinearRegression()\n",
    "###fit model to train data\n",
    "model.fit(X_train, Y_train)\n",
    "# check the score on the training data\n",
    "model.score(X_train, Y_train)"
   ]
  },
  {
   "cell_type": "code",
   "execution_count": 29,
   "metadata": {},
   "outputs": [],
   "source": [
    "X_test = df_test[['Lot Frontage', 'Lot Area', 'Neighborhood', 'Overall Qual',\n",
    "       'Year Built', 'Year Remod/Add', \n",
    "       'Exter Qual', 'Bsmt Qual', 'Bsmt Cond', 'Total Bsmt SF',\n",
    "       'Heating QC', 'Central Air', 'Gr Liv Area', 'Kitchen Qual',\n",
    "       'TotRms AbvGrd', 'Fireplaces', \n",
    "       'Garage Finish', 'Garage Cars', 'Garage Area', 'Garage Qual',\n",
    "       'Paved Drive', 'Mo Sold', 'Yr Sold', 'total bath',\n",
    "       'total sf', 'age', 'Neighborhood Interaction', 'Quality Interaction',\n",
    "       'Total Interaction']]  \n",
    "y_hat = np.exp(model.predict(X_test))"
   ]
  },
  {
   "cell_type": "code",
   "execution_count": 30,
   "metadata": {},
   "outputs": [
    {
     "data": {
      "text/html": [
       "<div>\n",
       "<style scoped>\n",
       "    .dataframe tbody tr th:only-of-type {\n",
       "        vertical-align: middle;\n",
       "    }\n",
       "\n",
       "    .dataframe tbody tr th {\n",
       "        vertical-align: top;\n",
       "    }\n",
       "\n",
       "    .dataframe thead th {\n",
       "        text-align: right;\n",
       "    }\n",
       "</style>\n",
       "<table border=\"1\" class=\"dataframe\">\n",
       "  <thead>\n",
       "    <tr style=\"text-align: right;\">\n",
       "      <th></th>\n",
       "      <th>Id</th>\n",
       "      <th>SalePrice</th>\n",
       "    </tr>\n",
       "  </thead>\n",
       "  <tbody>\n",
       "    <tr>\n",
       "      <th>0</th>\n",
       "      <td>2658</td>\n",
       "      <td>124760.438896</td>\n",
       "    </tr>\n",
       "    <tr>\n",
       "      <th>1</th>\n",
       "      <td>2718</td>\n",
       "      <td>176044.458062</td>\n",
       "    </tr>\n",
       "    <tr>\n",
       "      <th>2</th>\n",
       "      <td>2414</td>\n",
       "      <td>217960.702007</td>\n",
       "    </tr>\n",
       "    <tr>\n",
       "      <th>3</th>\n",
       "      <td>1989</td>\n",
       "      <td>110547.285173</td>\n",
       "    </tr>\n",
       "    <tr>\n",
       "      <th>4</th>\n",
       "      <td>625</td>\n",
       "      <td>172808.813232</td>\n",
       "    </tr>\n",
       "  </tbody>\n",
       "</table>\n",
       "</div>"
      ],
      "text/plain": [
       "     Id      SalePrice\n",
       "0  2658  124760.438896\n",
       "1  2718  176044.458062\n",
       "2  2414  217960.702007\n",
       "3  1989  110547.285173\n",
       "4   625  172808.813232"
      ]
     },
     "execution_count": 30,
     "metadata": {},
     "output_type": "execute_result"
    }
   ],
   "source": [
    "rockin_model = pd.DataFrame({'Id': df_test['Id'],\n",
    "                                     'SalePrice': y_hat,})\n",
    "rockin_model.head()"
   ]
  },
  {
   "cell_type": "code",
   "execution_count": 31,
   "metadata": {},
   "outputs": [],
   "source": [
    "rockin_model.to_csv('rockin_model.csv', index=False)"
   ]
  },
  {
   "cell_type": "code",
   "execution_count": 32,
   "metadata": {},
   "outputs": [
    {
     "name": "stdout",
     "output_type": "stream",
     "text": [
      "878\n"
     ]
    }
   ],
   "source": [
    "print(len(y_hat))"
   ]
  },
  {
   "cell_type": "code",
   "execution_count": 34,
   "metadata": {},
   "outputs": [],
   "source": [
    "rockin_model['actual'] = y_train"
   ]
  },
  {
   "cell_type": "code",
   "execution_count": 35,
   "metadata": {},
   "outputs": [
    {
     "data": {
      "text/html": [
       "<div>\n",
       "<style scoped>\n",
       "    .dataframe tbody tr th:only-of-type {\n",
       "        vertical-align: middle;\n",
       "    }\n",
       "\n",
       "    .dataframe tbody tr th {\n",
       "        vertical-align: top;\n",
       "    }\n",
       "\n",
       "    .dataframe thead th {\n",
       "        text-align: right;\n",
       "    }\n",
       "</style>\n",
       "<table border=\"1\" class=\"dataframe\">\n",
       "  <thead>\n",
       "    <tr style=\"text-align: right;\">\n",
       "      <th></th>\n",
       "      <th>Id</th>\n",
       "      <th>SalePrice</th>\n",
       "      <th>actual</th>\n",
       "    </tr>\n",
       "  </thead>\n",
       "  <tbody>\n",
       "    <tr>\n",
       "      <th>0</th>\n",
       "      <td>2658</td>\n",
       "      <td>124760.438896</td>\n",
       "      <td>130500</td>\n",
       "    </tr>\n",
       "    <tr>\n",
       "      <th>1</th>\n",
       "      <td>2718</td>\n",
       "      <td>176044.458062</td>\n",
       "      <td>220000</td>\n",
       "    </tr>\n",
       "    <tr>\n",
       "      <th>2</th>\n",
       "      <td>2414</td>\n",
       "      <td>217960.702007</td>\n",
       "      <td>109000</td>\n",
       "    </tr>\n",
       "    <tr>\n",
       "      <th>3</th>\n",
       "      <td>1989</td>\n",
       "      <td>110547.285173</td>\n",
       "      <td>174000</td>\n",
       "    </tr>\n",
       "    <tr>\n",
       "      <th>4</th>\n",
       "      <td>625</td>\n",
       "      <td>172808.813232</td>\n",
       "      <td>138500</td>\n",
       "    </tr>\n",
       "    <tr>\n",
       "      <th>...</th>\n",
       "      <td>...</td>\n",
       "      <td>...</td>\n",
       "      <td>...</td>\n",
       "    </tr>\n",
       "    <tr>\n",
       "      <th>873</th>\n",
       "      <td>1662</td>\n",
       "      <td>185257.838662</td>\n",
       "      <td>75200</td>\n",
       "    </tr>\n",
       "    <tr>\n",
       "      <th>874</th>\n",
       "      <td>1234</td>\n",
       "      <td>208190.189589</td>\n",
       "      <td>131250</td>\n",
       "    </tr>\n",
       "    <tr>\n",
       "      <th>875</th>\n",
       "      <td>1373</td>\n",
       "      <td>130441.273406</td>\n",
       "      <td>148000</td>\n",
       "    </tr>\n",
       "    <tr>\n",
       "      <th>876</th>\n",
       "      <td>1672</td>\n",
       "      <td>105423.934666</td>\n",
       "      <td>124100</td>\n",
       "    </tr>\n",
       "    <tr>\n",
       "      <th>877</th>\n",
       "      <td>1939</td>\n",
       "      <td>131164.602286</td>\n",
       "      <td>178400</td>\n",
       "    </tr>\n",
       "  </tbody>\n",
       "</table>\n",
       "<p>878 rows × 3 columns</p>\n",
       "</div>"
      ],
      "text/plain": [
       "       Id      SalePrice  actual\n",
       "0    2658  124760.438896  130500\n",
       "1    2718  176044.458062  220000\n",
       "2    2414  217960.702007  109000\n",
       "3    1989  110547.285173  174000\n",
       "4     625  172808.813232  138500\n",
       "..    ...            ...     ...\n",
       "873  1662  185257.838662   75200\n",
       "874  1234  208190.189589  131250\n",
       "875  1373  130441.273406  148000\n",
       "876  1672  105423.934666  124100\n",
       "877  1939  131164.602286  178400\n",
       "\n",
       "[878 rows x 3 columns]"
      ]
     },
     "execution_count": 35,
     "metadata": {},
     "output_type": "execute_result"
    }
   ],
   "source": [
    "rockin_model"
   ]
  },
  {
   "cell_type": "code",
   "execution_count": 36,
   "metadata": {},
   "outputs": [
    {
     "data": {
      "image/png": "[encoded data removed]",
      "text/plain": [
       "<Figure size 360x360 with 1 Axes>"
      ]
     },
     "metadata": {
      "needs_background": "light"
     },
     "output_type": "display_data"
    }
   ],
   "source": [
    "sns.lmplot(x=\"actual\", y=\"SalePrice\", data=rockin_model);"
   ]
  },
  {
   "cell_type": "code",
   "execution_count": 37,
   "metadata": {},
   "outputs": [
    {
     "data": {
      "image/png": "[encoded data removed]",
      "text/plain": [
       "<Figure size 864x576 with 1 Axes>"
      ]
     },
     "metadata": {
      "needs_background": "light"
     },
     "output_type": "display_data"
    }
   ],
   "source": [
    "df_train[['Yr Sold','SalePrice']].groupby(['Yr Sold'], as_index=True).mean().plot(figsize=(12,8))\n",
    "plt.title('Average Housing prices in Ames', fontsize=24);\n",
    "plt.ylabel('Median Price', fontsize=16);\n",
    "plt.xlabel('Year Sold', fontsize=16);\n",
    "plt.savefig('mean_price.png')"
   ]
  },
  {
   "cell_type": "code",
   "execution_count": null,
   "metadata": {},
   "outputs": [],
   "source": []
  }
 ],
 "metadata": {
  "kernelspec": {
   "display_name": "Python 3",
   "language": "python",
   "name": "python3"
  },
  "language_info": {
   "codemirror_mode": {
    "name": "ipython",
    "version": 3
   },
   "file_extension": ".py",
   "mimetype": "text/x-python",
   "name": "python",
   "nbconvert_exporter": "python",
   "pygments_lexer": "ipython3",
   "version": "3.7.6"
  }
 },
 "nbformat": 4,
 "nbformat_minor": 4
}
